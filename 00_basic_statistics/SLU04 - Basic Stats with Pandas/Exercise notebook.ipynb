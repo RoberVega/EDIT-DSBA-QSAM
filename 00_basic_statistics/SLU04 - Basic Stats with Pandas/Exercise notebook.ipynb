{
 "cells": [
  {
   "cell_type": "markdown",
   "id": "50525f54",
   "metadata": {
    "deletable": false,
    "editable": false,
    "nbgrader": {
     "grade": false,
     "grade_id": "cell-310bdcceebbb8d52",
     "locked": true,
     "schema_version": 3,
     "solution": false,
     "task": false
    }
   },
   "source": [
    "# SLU04 - Basic Stats with Pandas: Exercises notebook\n",
    "\n",
    "In these exercises, we'll use a dataset with information on books from [Goodreads](https://www.goodreads.com/). Goodreads is a platform that allows users to rate and review books. The dataset has been extracted from [Kaggle](https://www.kaggle.com/).\n",
    "\n",
    "## Objective\n",
    "\n",
    "The goal of these exercises is for you to learn how to use pandas to obtain simple statistics from datasets. The following will be tested:\n",
    "- Minimum, maximum, argmin, argmax\n",
    "- Mean, median & mode\n",
    "- Standard deviation and variance\n",
    "- Skewness & Kurtosis\n",
    "- Quantiles\n",
    "- Outliers & how to deal with them\n",
    "\n",
    "## Dataset information\n",
    "\n",
    "![](media/goodreads.jpg)\n",
    "\n",
    "This dataset contains a sample of ~57,000 books rated and reviewed by users on Goodreads.\n",
    "\n",
    "The fields in the dataset are the following:\n",
    "\n",
    "- `Id`: Book ID on Goodreads\n",
    "- `Name`: Book title\n",
    "- `pagesNumber`: Pages for each book\n",
    "- `Publisher`: Publisher name\n",
    "- `CountsOfReview`: Counts of text review\n",
    "- `PublishYear`: Year the book was published\n",
    "- `Authors`: Book author\n",
    "- `Rating`: Average rating of the book (0.0 - 5.0)\n",
    "- `ISBN`: Unique book identifier (International Standard Book Number)"
   ]
  },
  {
   "cell_type": "code",
   "execution_count": 16,
   "id": "16b0c039",
   "metadata": {
    "deletable": false,
    "editable": false,
    "nbgrader": {
     "grade": false,
     "grade_id": "cell-3a7c752ca246892c",
     "locked": true,
     "schema_version": 3,
     "solution": false,
     "task": false
    }
   },
   "outputs": [],
   "source": [
    "import pandas as pd\n",
    "import numpy as np\n",
    "import matplotlib.pyplot as plt\n",
    "import math \n",
    "import hashlib"
   ]
  },
  {
   "cell_type": "code",
   "execution_count": 17,
   "id": "6611cad7",
   "metadata": {
    "deletable": false,
    "editable": false,
    "nbgrader": {
     "grade": false,
     "grade_id": "cell-05bad370cf6d127e",
     "locked": true,
     "schema_version": 3,
     "solution": false,
     "task": false
    }
   },
   "outputs": [
    {
     "data": {
      "text/html": [
       "<div>\n",
       "<style scoped>\n",
       "    .dataframe tbody tr th:only-of-type {\n",
       "        vertical-align: middle;\n",
       "    }\n",
       "\n",
       "    .dataframe tbody tr th {\n",
       "        vertical-align: top;\n",
       "    }\n",
       "\n",
       "    .dataframe thead th {\n",
       "        text-align: right;\n",
       "    }\n",
       "</style>\n",
       "<table border=\"1\" class=\"dataframe\">\n",
       "  <thead>\n",
       "    <tr style=\"text-align: right;\">\n",
       "      <th></th>\n",
       "      <th>Name</th>\n",
       "      <th>pagesNumber</th>\n",
       "      <th>Publisher</th>\n",
       "      <th>CountsOfReview</th>\n",
       "      <th>PublishYear</th>\n",
       "      <th>Authors</th>\n",
       "      <th>Rating</th>\n",
       "      <th>ISBN</th>\n",
       "    </tr>\n",
       "    <tr>\n",
       "      <th>Id</th>\n",
       "      <th></th>\n",
       "      <th></th>\n",
       "      <th></th>\n",
       "      <th></th>\n",
       "      <th></th>\n",
       "      <th></th>\n",
       "      <th></th>\n",
       "      <th></th>\n",
       "    </tr>\n",
       "  </thead>\n",
       "  <tbody>\n",
       "    <tr>\n",
       "      <th>2</th>\n",
       "      <td>Harry Potter and the Order of the Phoenix (Har...</td>\n",
       "      <td>870</td>\n",
       "      <td>Scholastic Inc.</td>\n",
       "      <td>29770</td>\n",
       "      <td>2004</td>\n",
       "      <td>J.K. Rowling</td>\n",
       "      <td>4.50</td>\n",
       "      <td>439358078</td>\n",
       "    </tr>\n",
       "    <tr>\n",
       "      <th>4</th>\n",
       "      <td>Harry Potter and the Chamber of Secrets (Harry...</td>\n",
       "      <td>352</td>\n",
       "      <td>Scholastic</td>\n",
       "      <td>244</td>\n",
       "      <td>2003</td>\n",
       "      <td>J.K. Rowling</td>\n",
       "      <td>4.42</td>\n",
       "      <td>439554896</td>\n",
       "    </tr>\n",
       "    <tr>\n",
       "      <th>5</th>\n",
       "      <td>Harry Potter and the Prisoner of Azkaban (Harr...</td>\n",
       "      <td>435</td>\n",
       "      <td>Scholastic Inc.</td>\n",
       "      <td>37093</td>\n",
       "      <td>2004</td>\n",
       "      <td>J.K. Rowling</td>\n",
       "      <td>4.57</td>\n",
       "      <td>043965548X</td>\n",
       "    </tr>\n",
       "    <tr>\n",
       "      <th>8</th>\n",
       "      <td>Harry Potter Boxed Set, Books 1-5 (Harry Potte...</td>\n",
       "      <td>2690</td>\n",
       "      <td>Scholastic</td>\n",
       "      <td>166</td>\n",
       "      <td>2004</td>\n",
       "      <td>J.K. Rowling</td>\n",
       "      <td>4.78</td>\n",
       "      <td>439682584</td>\n",
       "    </tr>\n",
       "    <tr>\n",
       "      <th>9</th>\n",
       "      <td>Unauthorized Harry Potter Book Seven News: \"Ha...</td>\n",
       "      <td>152</td>\n",
       "      <td>Nimble Books</td>\n",
       "      <td>1</td>\n",
       "      <td>2005</td>\n",
       "      <td>W. Frederick Zimmerman</td>\n",
       "      <td>3.79</td>\n",
       "      <td>976540606</td>\n",
       "    </tr>\n",
       "  </tbody>\n",
       "</table>\n",
       "</div>"
      ],
      "text/plain": [
       "                                                 Name  pagesNumber  \\\n",
       "Id                                                                   \n",
       "2   Harry Potter and the Order of the Phoenix (Har...          870   \n",
       "4   Harry Potter and the Chamber of Secrets (Harry...          352   \n",
       "5   Harry Potter and the Prisoner of Azkaban (Harr...          435   \n",
       "8   Harry Potter Boxed Set, Books 1-5 (Harry Potte...         2690   \n",
       "9   Unauthorized Harry Potter Book Seven News: \"Ha...          152   \n",
       "\n",
       "          Publisher  CountsOfReview  PublishYear                 Authors  \\\n",
       "Id                                                                         \n",
       "2   Scholastic Inc.           29770         2004            J.K. Rowling   \n",
       "4        Scholastic             244         2003            J.K. Rowling   \n",
       "5   Scholastic Inc.           37093         2004            J.K. Rowling   \n",
       "8        Scholastic             166         2004            J.K. Rowling   \n",
       "9      Nimble Books               1         2005  W. Frederick Zimmerman   \n",
       "\n",
       "    Rating        ISBN  \n",
       "Id                      \n",
       "2     4.50   439358078  \n",
       "4     4.42   439554896  \n",
       "5     4.57  043965548X  \n",
       "8     4.78   439682584  \n",
       "9     3.79   976540606  "
      ]
     },
     "execution_count": 17,
     "metadata": {},
     "output_type": "execute_result"
    }
   ],
   "source": [
    "data = pd.read_csv('data/books.csv', delimiter=';').set_index(\"Id\")\n",
    "data.head()"
   ]
  },
  {
   "cell_type": "markdown",
   "id": "461b994f",
   "metadata": {
    "deletable": false,
    "editable": false,
    "nbgrader": {
     "grade": false,
     "grade_id": "cell-45496da1b69fd9da",
     "locked": true,
     "schema_version": 3,
     "solution": false,
     "task": false
    }
   },
   "source": [
    "----"
   ]
  },
  {
   "cell_type": "markdown",
   "id": "4b80582f",
   "metadata": {
    "deletable": false,
    "editable": false,
    "nbgrader": {
     "grade": false,
     "grade_id": "cell-bcc1b9b0dd6afbdc",
     "locked": true,
     "schema_version": 3,
     "solution": false,
     "task": false
    }
   },
   "source": [
    "# Exercise 1\n",
    "\n",
    "Let's start by performing some descriptive statistics:\n",
    "\n",
    "- Check how many values exist for each column\n",
    "- Sum the `Rating` variable and round the result to #.## (2 decimal digits) to supress double-precision floating-point numbers accuracy issues\n",
    "- Obtain a NumPy array of all the different years we have in the `PublishYear` preserving the dataframe order"
   ]
  },
  {
   "cell_type": "code",
   "execution_count": 24,
   "id": "321d14e2",
   "metadata": {
    "deletable": false,
    "nbgrader": {
     "grade": false,
     "grade_id": "cell-db3ef45dd2026289",
     "locked": false,
     "schema_version": 3,
     "solution": true,
     "task": false
    }
   },
   "outputs": [
    {
     "data": {
      "text/plain": [
       "Name              Harry Potter and the Order of the Phoenix (Har...\n",
       "pagesNumber                                                16610524\n",
       "Publisher         Scholastic Inc.ScholasticScholastic Inc.Schola...\n",
       "CountsOfReview                                              7884725\n",
       "PublishYear                                               113997551\n",
       "Authors           J.K. RowlingJ.K. RowlingJ.K. RowlingJ.K. Rowli...\n",
       "Rating                                                    208541.08\n",
       "ISBN              439358078439554896043965548X439682584976540606...\n",
       "dtype: object"
      ]
     },
     "execution_count": 24,
     "metadata": {},
     "output_type": "execute_result"
    }
   ],
   "source": [
    "data.sum()\n",
    "#sum_rating = \n",
    "#publish_years = \n"
   ]
  },
  {
   "cell_type": "markdown",
   "id": "61c5c005",
   "metadata": {
    "deletable": false,
    "editable": false,
    "nbgrader": {
     "grade": false,
     "grade_id": "cell-f0d63ad196788ef4",
     "locked": true,
     "schema_version": 3,
     "solution": false,
     "task": false
    }
   },
   "source": [
    "##### Asserts"
   ]
  },
  {
   "cell_type": "code",
   "execution_count": 19,
   "id": "828d6d9a",
   "metadata": {
    "deletable": false,
    "editable": false,
    "nbgrader": {
     "grade": true,
     "grade_id": "cell-6a0888b546093ca7",
     "locked": true,
     "points": 3,
     "schema_version": 3,
     "solution": false,
     "task": false
    }
   },
   "outputs": [
    {
     "ename": "AssertionError",
     "evalue": "Incorrect missing values count.",
     "output_type": "error",
     "traceback": [
      "\u001b[1;31m---------------------------------------------------------------------------\u001b[0m",
      "\u001b[1;31mAssertionError\u001b[0m                            Traceback (most recent call last)",
      "Cell \u001b[1;32mIn[19], line 5\u001b[0m\n\u001b[0;32m      2\u001b[0m sum_rating_hash \u001b[38;5;241m=\u001b[39m \u001b[38;5;124m\"\u001b[39m\u001b[38;5;124m1708576c389ff9f8edec5f4904ec8b204218a0b509a90ea9d64f920ae949b8e3\u001b[39m\u001b[38;5;124m\"\u001b[39m\n\u001b[0;32m      3\u001b[0m publish_years_hash \u001b[38;5;241m=\u001b[39m \u001b[38;5;124m\"\u001b[39m\u001b[38;5;124me048fc8ef688fbdf7d9717e944b0bc15ebb9774f2ffa8ec030b64d30a77d0d94\u001b[39m\u001b[38;5;124m\"\u001b[39m\n\u001b[1;32m----> 5\u001b[0m \u001b[38;5;28;01massert\u001b[39;00m count_values_hash \u001b[38;5;241m==\u001b[39m hashlib\u001b[38;5;241m.\u001b[39msha256(\u001b[38;5;28mbytes\u001b[39m(count_values\u001b[38;5;241m.\u001b[39miloc[\u001b[38;5;241m0\u001b[39m]))\u001b[38;5;241m.\u001b[39mhexdigest(), \u001b[38;5;124m\"\u001b[39m\u001b[38;5;124mIncorrect missing values count.\u001b[39m\u001b[38;5;124m\"\u001b[39m\n\u001b[0;32m      6\u001b[0m \u001b[38;5;28;01massert\u001b[39;00m sum_rating_hash \u001b[38;5;241m==\u001b[39m hashlib\u001b[38;5;241m.\u001b[39msha256(\u001b[38;5;28mbytes\u001b[39m(sum_rating))\u001b[38;5;241m.\u001b[39mhexdigest(), \u001b[38;5;124m\"\u001b[39m\u001b[38;5;124mIncorrect sum of ratings.\u001b[39m\u001b[38;5;124m\"\u001b[39m\n\u001b[0;32m      7\u001b[0m \u001b[38;5;28;01massert\u001b[39;00m publish_years_hash \u001b[38;5;241m==\u001b[39m hashlib\u001b[38;5;241m.\u001b[39msha256(\u001b[38;5;28mbytes\u001b[39m(publish_years))\u001b[38;5;241m.\u001b[39mhexdigest(), \u001b[38;5;124m\"\u001b[39m\u001b[38;5;124mIncorrect list of years.\u001b[39m\u001b[38;5;124m\"\u001b[39m\n",
      "\u001b[1;31mAssertionError\u001b[0m: Incorrect missing values count."
     ]
    }
   ],
   "source": [
    "count_values_hash = \"dc7a392aa24445d85c639c640499a2dc31bb94b416d31c858b74dfa54cca6cc0\"\n",
    "sum_rating_hash = \"1708576c389ff9f8edec5f4904ec8b204218a0b509a90ea9d64f920ae949b8e3\"\n",
    "publish_years_hash = \"e048fc8ef688fbdf7d9717e944b0bc15ebb9774f2ffa8ec030b64d30a77d0d94\"\n",
    "\n",
    "assert count_values_hash == hashlib.sha256(bytes(count_values.iloc[0])).hexdigest(), \"Incorrect missing values count.\"\n",
    "assert sum_rating_hash == hashlib.sha256(bytes(sum_rating)).hexdigest(), \"Incorrect sum of ratings.\"\n",
    "assert publish_years_hash == hashlib.sha256(bytes(publish_years)).hexdigest(), \"Incorrect list of years.\"\n",
    "\n",
    "print(\"---- Yay! All asserts passed ---- \")"
   ]
  },
  {
   "cell_type": "markdown",
   "id": "19be99ca",
   "metadata": {},
   "source": [
    "----"
   ]
  },
  {
   "cell_type": "markdown",
   "id": "d71d082a",
   "metadata": {
    "deletable": false,
    "editable": false,
    "nbgrader": {
     "grade": false,
     "grade_id": "cell-f0238b42976e21b6",
     "locked": true,
     "schema_version": 3,
     "solution": false,
     "task": false
    }
   },
   "source": [
    "# Exercise 2 \n",
    "\n",
    "Let's have a look at the `Rating` variable. Find the following information:\n",
    "\n",
    "- What are the minimum and maximum rating values?\n",
    "- What is the most common rating?\n",
    "- What is the average rating?\n",
    "- What is the median rating?\n",
    "- What is the standard deviation of the rating?"
   ]
  },
  {
   "cell_type": "code",
   "execution_count": null,
   "id": "c8514142",
   "metadata": {
    "deletable": false,
    "nbgrader": {
     "grade": false,
     "grade_id": "cell-f893ab0625857775",
     "locked": false,
     "schema_version": 3,
     "solution": true,
     "task": false
    }
   },
   "outputs": [],
   "source": [
    "# maximum = ...\n",
    "# minimum = ...\n",
    "# most_common = ...  # Hint: you should return a number, not a pandas Series :)\n",
    "# mean = ...\n",
    "# median = ...\n",
    "# standard_deviation = ...\n",
    "\n",
    "# YOUR CODE HERE\n",
    "raise NotImplementedError()"
   ]
  },
  {
   "cell_type": "markdown",
   "id": "3d6b4cc9",
   "metadata": {
    "deletable": false,
    "editable": false,
    "nbgrader": {
     "grade": false,
     "grade_id": "cell-c22a9f82b7bfe509",
     "locked": true,
     "schema_version": 3,
     "solution": false,
     "task": false
    }
   },
   "source": [
    "##### Asserts"
   ]
  },
  {
   "cell_type": "code",
   "execution_count": null,
   "id": "41f0e52a",
   "metadata": {
    "deletable": false,
    "editable": false,
    "nbgrader": {
     "grade": true,
     "grade_id": "cell-2e1e593c4b90770a",
     "locked": true,
     "points": 3,
     "schema_version": 3,
     "solution": false,
     "task": false
    }
   },
   "outputs": [],
   "source": [
    "np.testing.assert_approx_equal(maximum, 5.0)\n",
    "np.testing.assert_approx_equal(minimum, 0.0)\n",
    "assert isinstance(most_common, float), \"most_common should be of type float\"\n",
    "np.testing.assert_approx_equal(most_common, 0.0)\n",
    "np.testing.assert_approx_equal(mean, 3.66, 2)\n",
    "np.testing.assert_approx_equal(median, 3.90, 2)\n",
    "np.testing.assert_approx_equal(standard_deviation, 1.01, 2)\n",
    "\n",
    "print(\"---- Well Done! All asserts passed ---- \")"
   ]
  },
  {
   "cell_type": "markdown",
   "id": "ca2ae0a0",
   "metadata": {
    "deletable": false,
    "editable": false,
    "nbgrader": {
     "grade": false,
     "grade_id": "cell-0653bd3b2ce0963c",
     "locked": true,
     "schema_version": 3,
     "solution": false,
     "task": false
    }
   },
   "source": [
    "----"
   ]
  },
  {
   "cell_type": "markdown",
   "id": "f3c0e709",
   "metadata": {
    "deletable": false,
    "editable": false,
    "nbgrader": {
     "grade": false,
     "grade_id": "cell-679bef613b182f8b",
     "locked": true,
     "schema_version": 3,
     "solution": false,
     "task": false
    }
   },
   "source": [
    "# Exercise 3 \n",
    "\n",
    "Let's have a look at the `pagesNumber` variable.\n",
    "\n",
    "- How many pages has the longest book? What is its Id? What is its Title?\n",
    "- How many pages has the shortest book? What is its Id? What is its Title?\n"
   ]
  },
  {
   "cell_type": "code",
   "execution_count": null,
   "id": "1a5c542d",
   "metadata": {
    "deletable": false,
    "nbgrader": {
     "grade": false,
     "grade_id": "cell-b300d2b022a8934a",
     "locked": false,
     "schema_version": 3,
     "solution": true,
     "task": false
    }
   },
   "outputs": [],
   "source": [
    "# number_pages_longest_book = ...\n",
    "# id_longest_book = ...\n",
    "# title_longest_book = ...\n",
    "\n",
    "# number_pages_shortest_book = ...\n",
    "# id_shortest_book = ...\n",
    "# title_shortest_book = ...\n",
    "\n",
    "# YOUR CODE HERE\n",
    "raise NotImplementedError()"
   ]
  },
  {
   "cell_type": "markdown",
   "id": "0e4941dc",
   "metadata": {
    "deletable": false,
    "editable": false,
    "nbgrader": {
     "grade": false,
     "grade_id": "cell-eaeb6adb7549556e",
     "locked": true,
     "schema_version": 3,
     "solution": false,
     "task": false
    }
   },
   "source": [
    "##### Asserts"
   ]
  },
  {
   "cell_type": "code",
   "execution_count": null,
   "id": "b977c90d",
   "metadata": {
    "deletable": false,
    "editable": false,
    "nbgrader": {
     "grade": true,
     "grade_id": "cell-67191ee0157260db",
     "locked": true,
     "points": 2,
     "schema_version": 3,
     "solution": false,
     "task": false
    }
   },
   "outputs": [],
   "source": [
    "number_pages_longest_book_hash = \"397cc9a4ac830eb287dcd4f6ad5fdbd9bb0356026b130790026f7d60415d90fa\"\n",
    "id_longest_book_hash = \"c5abddc940877a43d0fea09d3df6136f27d0895c5245ae764b6ee2f85da722b7\"\n",
    "title_longest_book_hash = \"6ce5428314264af44259505ed57cc744a8d80ad958481a1f712fec5adceb153f\"\n",
    "\n",
    "number_pages_shortest_book_hash = \"e3b0c44298fc1c149afbf4c8996fb92427ae41e4649b934ca495991b7852b855\"\n",
    "id_shortest_book_hash = \"11ba380b8f69673109f474ea4e91ea85b0733e1afa1aae9662a8c1b4f243485c\"\n",
    "title_shortest_book_hash = \"7ae602589ba763e06517cec687f4613b64c1bd7bd090de7cce09d1e36e6ca28c\"\n",
    "\n",
    "assert number_pages_longest_book_hash == hashlib.sha256(bytes(number_pages_longest_book)).hexdigest(), \"Wrong answer.\"\\\n",
    "\"Please check the number of pages of the longest book.\"\n",
    "assert id_longest_book_hash == hashlib.sha256(bytes(id_longest_book)).hexdigest(), \"Wrong answer.\"\\\n",
    "\"Please check the id of the longest book.\"\n",
    "assert title_longest_book_hash == hashlib.sha256(bytes(title_longest_book, \"utf-8\")).hexdigest(), \"Wrong answer.\"\\\n",
    "\"Please check the title of the longest book.\"\n",
    "assert number_pages_shortest_book_hash == hashlib.sha256(bytes(number_pages_shortest_book)).hexdigest(), \"Wrong answer.\"\\\n",
    "\"Please check the number of pages of the shortest book.\"\n",
    "assert id_shortest_book_hash == hashlib.sha256(bytes(id_shortest_book)).hexdigest(), \"Wrong answer.\"\\\n",
    "\"Please check the id of the shortest book.\"\n",
    "assert title_shortest_book_hash == hashlib.sha256(bytes(title_shortest_book, \"utf-8\")).hexdigest(), \"Wrong answer.\"\\\n",
    "\"Please check the title of the shortest book.\"\n",
    "\n",
    "print(\"---- UhuuuuL! All asserts passed ---- \")"
   ]
  },
  {
   "cell_type": "markdown",
   "id": "d96a9cd2",
   "metadata": {
    "deletable": false,
    "editable": false,
    "nbgrader": {
     "grade": false,
     "grade_id": "cell-f0cb65d169697d0e",
     "locked": true,
     "schema_version": 3,
     "solution": false,
     "task": false
    }
   },
   "source": [
    "----"
   ]
  },
  {
   "cell_type": "markdown",
   "id": "97490715",
   "metadata": {
    "deletable": false,
    "editable": false,
    "nbgrader": {
     "grade": false,
     "grade_id": "cell-57947ea652e2cb18",
     "locked": true,
     "schema_version": 3,
     "solution": false,
     "task": false
    }
   },
   "source": [
    "# Exercise 4\n",
    "\n",
    "However, remember that `idxmax` and `idxmin` only return the index of the first of occurrence.\n",
    "\n",
    "Find how many books are rated with the maximum value."
   ]
  },
  {
   "cell_type": "code",
   "execution_count": null,
   "id": "7bc5d797",
   "metadata": {
    "deletable": false,
    "nbgrader": {
     "grade": false,
     "grade_id": "cell-6b22a0341d2f6385",
     "locked": false,
     "schema_version": 3,
     "solution": true,
     "task": false
    }
   },
   "outputs": [],
   "source": [
    "# max_rated_books = ...\n",
    "\n",
    "# YOUR CODE HERE\n",
    "raise NotImplementedError()"
   ]
  },
  {
   "cell_type": "markdown",
   "id": "d2fc936a",
   "metadata": {
    "deletable": false,
    "editable": false,
    "nbgrader": {
     "grade": false,
     "grade_id": "cell-c1c2f930e69ad305",
     "locked": true,
     "schema_version": 3,
     "solution": false,
     "task": false
    }
   },
   "source": [
    "##### Asserts"
   ]
  },
  {
   "cell_type": "code",
   "execution_count": null,
   "id": "d11f7a38",
   "metadata": {
    "deletable": false,
    "editable": false,
    "nbgrader": {
     "grade": true,
     "grade_id": "cell-144553185cf84ebb",
     "locked": true,
     "points": 2,
     "schema_version": 3,
     "solution": false,
     "task": false
    }
   },
   "outputs": [],
   "source": [
    "max_rated_books_hash = \"3449ddf7ca912858ea7e87b19040bf7b9b529099f50d0f3c3388c6c79083ae0b\"\n",
    "\n",
    "assert max_rated_books_hash == hashlib.sha256(bytes(max_rated_books)).hexdigest(), 'Not correct, try again.'\n",
    "\n",
    "print(\"---- Correct! Assert passed ---- \")"
   ]
  },
  {
   "cell_type": "markdown",
   "id": "90c2fd14",
   "metadata": {
    "deletable": false,
    "editable": false,
    "nbgrader": {
     "grade": false,
     "grade_id": "cell-fbef1df3f4225908",
     "locked": true,
     "schema_version": 3,
     "solution": false,
     "task": false
    }
   },
   "source": [
    "----"
   ]
  },
  {
   "cell_type": "markdown",
   "id": "08744361",
   "metadata": {
    "deletable": false,
    "editable": false,
    "nbgrader": {
     "grade": false,
     "grade_id": "cell-e5e777f2beb78dc4",
     "locked": true,
     "schema_version": 3,
     "solution": false,
     "task": false
    }
   },
   "source": [
    "# Exercise 5.1\n",
    "\n",
    "Let's check the distribution of `Rating`.\n",
    "\n",
    "- plot a histogram for the distribution of `Rating` with 20 bins\n",
    "- check the skewness of the distribution (do you expect it to be positive or negative?)"
   ]
  },
  {
   "cell_type": "code",
   "execution_count": null,
   "id": "eea25c3d",
   "metadata": {
    "deletable": false,
    "nbgrader": {
     "grade": false,
     "grade_id": "cell-fbf5c7cb68a8f754",
     "locked": false,
     "schema_version": 3,
     "solution": true,
     "task": false
    }
   },
   "outputs": [],
   "source": [
    "# plot a histogram with 20 bins\n",
    "# ...\n",
    "\n",
    "# compute the skewness measure\n",
    "# skew = ...\n",
    "\n",
    "# YOUR CODE HERE\n",
    "raise NotImplementedError()\n",
    "\n",
    "print(\"The skewness measure is {:.3f}.\".format(skew))"
   ]
  },
  {
   "cell_type": "markdown",
   "id": "05159e24",
   "metadata": {
    "deletable": false,
    "editable": false,
    "nbgrader": {
     "grade": false,
     "grade_id": "cell-7f8a20acce7d6dcf",
     "locked": true,
     "schema_version": 3,
     "solution": false,
     "task": false
    }
   },
   "source": [
    "#### Asserts"
   ]
  },
  {
   "cell_type": "code",
   "execution_count": null,
   "id": "7c15635d",
   "metadata": {
    "deletable": false,
    "editable": false,
    "nbgrader": {
     "grade": true,
     "grade_id": "cell-ddf87542e1483998",
     "locked": true,
     "points": 2,
     "schema_version": 3,
     "solution": false,
     "task": false
    }
   },
   "outputs": [],
   "source": [
    "np.testing.assert_approx_equal(skew, -2.776, 2)\n",
    "\n",
    "print(\"---- Horay! Assert passed ---- \")"
   ]
  },
  {
   "cell_type": "markdown",
   "id": "d8e59314",
   "metadata": {},
   "source": [
    "----"
   ]
  },
  {
   "cell_type": "markdown",
   "id": "87101e9a",
   "metadata": {
    "deletable": false,
    "editable": false,
    "nbgrader": {
     "grade": false,
     "grade_id": "cell-873d137d825b3b2e",
     "locked": true,
     "schema_version": 3,
     "solution": false,
     "task": false
    }
   },
   "source": [
    "# Exercise 5.2\n",
    "\n",
    "Let's now check the kurtosis for the plotted `Rating` distribution and compare it with a normal distribution with the same characteristics."
   ]
  },
  {
   "cell_type": "code",
   "execution_count": null,
   "id": "32cad67a",
   "metadata": {
    "deletable": false,
    "editable": false,
    "nbgrader": {
     "grade": false,
     "grade_id": "cell-6bce3d40ad0eb946",
     "locked": true,
     "schema_version": 3,
     "solution": false,
     "task": false
    }
   },
   "outputs": [],
   "source": [
    "np.random.seed(42) # we set a random seed so all notebooks generate the same random numbers\n",
    "\n",
    "mean, std, n = data[\"Rating\"].mean(), data[\"Rating\"].std(), data[\"Rating\"].shape[0]\n",
    "random_normal_returns = np.random.normal(mean, std, n) # here, we generate the random normal distribution\n",
    "data_normal = pd.Series(data=random_normal_returns, index=data.index)\n",
    "\n",
    "data_normal.plot.hist(bins=20)"
   ]
  },
  {
   "cell_type": "code",
   "execution_count": null,
   "id": "971800cd",
   "metadata": {
    "deletable": false,
    "nbgrader": {
     "grade": false,
     "grade_id": "cell-e381fd1f6015b1d0",
     "locked": false,
     "schema_version": 3,
     "solution": true,
     "task": false
    }
   },
   "outputs": [],
   "source": [
    "# compute the kurtosis measures\n",
    "# kurt = ...\n",
    "# kurt_normal = ...\n",
    "\n",
    "# YOUR CODE HERE\n",
    "raise NotImplementedError()\n",
    "\n",
    "print(\"The kurtosis measure for the data distribution is {:.1f}.\".format(kurt))\n",
    "print(\"The kurtosis measure for the random normal distribution is {:.1f}.\".format(kurt_normal))"
   ]
  },
  {
   "cell_type": "markdown",
   "id": "47c807b0",
   "metadata": {},
   "source": [
    "##### Asserts"
   ]
  },
  {
   "cell_type": "code",
   "execution_count": null,
   "id": "d4dfdf72",
   "metadata": {
    "deletable": false,
    "editable": false,
    "nbgrader": {
     "grade": true,
     "grade_id": "cell-14cbf73f0cbf5bfa",
     "locked": true,
     "points": 2,
     "schema_version": 3,
     "solution": false,
     "task": false
    }
   },
   "outputs": [],
   "source": [
    "np.testing.assert_approx_equal(kurt, 7.5, 2)\n",
    "np.testing.assert_approx_equal(kurt_normal, 0, 0)\n",
    "\n",
    "print(\"---- Yeah! all asserts passed ---- \")"
   ]
  },
  {
   "cell_type": "markdown",
   "id": "4cd14f03",
   "metadata": {},
   "source": [
    "----"
   ]
  },
  {
   "cell_type": "markdown",
   "id": "e0c0a337",
   "metadata": {},
   "source": [
    "# Exercise 6\n",
    "\n",
    "Find the value of the first, second, and third quartiles of the plotted `Rating` distribution. Find also the value of the mean. Is the second quartile equal to the mean?"
   ]
  },
  {
   "cell_type": "code",
   "execution_count": null,
   "id": "27795126",
   "metadata": {
    "deletable": false,
    "nbgrader": {
     "grade": false,
     "grade_id": "cell-bc6507803312a481",
     "locked": false,
     "schema_version": 3,
     "solution": true,
     "task": false
    }
   },
   "outputs": [],
   "source": [
    "# output quartiles as pandas Series\n",
    "# returns_quartiles = ...\n",
    "# mean_rating = ...\n",
    "\n",
    "# YOUR CODE HERE\n",
    "raise NotImplementedError()"
   ]
  },
  {
   "cell_type": "markdown",
   "id": "d34de9aa",
   "metadata": {
    "deletable": false,
    "editable": false,
    "nbgrader": {
     "grade": false,
     "grade_id": "cell-c50afe2aaadc6b38",
     "locked": true,
     "schema_version": 3,
     "solution": false,
     "task": false
    }
   },
   "source": [
    "#### Asserts"
   ]
  },
  {
   "cell_type": "code",
   "execution_count": null,
   "id": "33be67e9",
   "metadata": {
    "deletable": false,
    "editable": false,
    "nbgrader": {
     "grade": true,
     "grade_id": "cell-2bb50c9c7ec62870",
     "locked": true,
     "points": 2,
     "schema_version": 3,
     "solution": false,
     "task": false
    }
   },
   "outputs": [],
   "source": [
    "assert isinstance(returns_quartiles, pd.Series)\n",
    "np.testing.assert_approx_equal(returns_quartiles[0.25], 3.62, 2)\n",
    "np.testing.assert_approx_equal(mean_rating, 3.657, 2)\n",
    "\n",
    "print(\"---- Yoooo! All asserts passed ---- \")"
   ]
  },
  {
   "cell_type": "markdown",
   "id": "3533792a",
   "metadata": {
    "deletable": false,
    "editable": false,
    "nbgrader": {
     "grade": false,
     "grade_id": "cell-777f5398dff0d897",
     "locked": true,
     "schema_version": 3,
     "solution": false,
     "task": false
    }
   },
   "source": [
    "----"
   ]
  },
  {
   "cell_type": "markdown",
   "id": "76f8d29a",
   "metadata": {
    "deletable": false,
    "editable": false,
    "nbgrader": {
     "grade": false,
     "grade_id": "cell-9b49894718f512f0",
     "locked": true,
     "schema_version": 3,
     "solution": false,
     "task": false
    }
   },
   "source": [
    "# Exercise 7\n",
    "\n",
    "There's a pandas method really useful to summarize variables. Do you remember what it is?\n",
    "\n",
    "Apply the method on the `CountsOfReview` column and investigate the results."
   ]
  },
  {
   "cell_type": "code",
   "execution_count": null,
   "id": "e6df7cef",
   "metadata": {
    "deletable": false,
    "nbgrader": {
     "grade": false,
     "grade_id": "cell-71c1572ac509ebc6",
     "locked": false,
     "schema_version": 3,
     "solution": true,
     "task": false
    }
   },
   "outputs": [],
   "source": [
    "# CountsOfReview_summary ...\n",
    "\n",
    "# YOUR CODE HERE\n",
    "raise NotImplementedError()"
   ]
  },
  {
   "cell_type": "markdown",
   "id": "22190bb9",
   "metadata": {
    "deletable": false,
    "editable": false,
    "nbgrader": {
     "grade": false,
     "grade_id": "cell-0d2c54861b241dfe",
     "locked": true,
     "schema_version": 3,
     "solution": false,
     "task": false
    }
   },
   "source": [
    "#### Asserts"
   ]
  },
  {
   "cell_type": "code",
   "execution_count": null,
   "id": "6c858f41",
   "metadata": {
    "deletable": false,
    "editable": false,
    "nbgrader": {
     "grade": true,
     "grade_id": "cell-6afcb287625277e3",
     "locked": true,
     "points": 1,
     "schema_version": 3,
     "solution": false,
     "task": false
    }
   },
   "outputs": [],
   "source": [
    "assert isinstance(CountsOfReview_summary, pd.Series), \"Make sure you apply the correct method.\" \\\n",
    "\" It is used to 'describe' the variable. :)\"\n",
    "np.testing.assert_approx_equal(CountsOfReview_summary.max(), 94850.0, 2)\n",
    "\n",
    "print(\"---- Weee! All asserts passed ---- \")"
   ]
  },
  {
   "cell_type": "markdown",
   "id": "78e70cc6",
   "metadata": {
    "deletable": false,
    "editable": false,
    "nbgrader": {
     "grade": false,
     "grade_id": "cell-bcc9dafc80ef1452",
     "locked": true,
     "schema_version": 3,
     "solution": false,
     "task": false
    }
   },
   "source": [
    "----"
   ]
  },
  {
   "cell_type": "markdown",
   "id": "297d5dbc",
   "metadata": {
    "deletable": false,
    "editable": false,
    "nbgrader": {
     "grade": false,
     "grade_id": "cell-2b4043cfc26c4dcd",
     "locked": true,
     "schema_version": 3,
     "solution": false,
     "task": false
    }
   },
   "source": [
    "# Exercise 8\n",
    "\n",
    "Let's focus on the outliers for the `CountsOfReview`. First let's check if our data has 0 counts of review:"
   ]
  },
  {
   "cell_type": "code",
   "execution_count": null,
   "id": "d2ac246d",
   "metadata": {
    "deletable": false,
    "editable": false,
    "nbgrader": {
     "grade": false,
     "grade_id": "cell-b0f6c3df8056eeb1",
     "locked": true,
     "schema_version": 3,
     "solution": false,
     "task": false
    }
   },
   "outputs": [],
   "source": [
    "data.loc[data[\"CountsOfReview\"] == 0].head()"
   ]
  },
  {
   "cell_type": "markdown",
   "id": "ed893477",
   "metadata": {
    "deletable": false,
    "editable": false,
    "nbgrader": {
     "grade": false,
     "grade_id": "cell-622fb473302c4c9d",
     "locked": true,
     "schema_version": 3,
     "solution": false,
     "task": false
    }
   },
   "source": [
    "There are several `CountsOfReview` with 0. To simplify for now, let's drop them."
   ]
  },
  {
   "cell_type": "code",
   "execution_count": null,
   "id": "df6af666",
   "metadata": {
    "deletable": false,
    "editable": false,
    "nbgrader": {
     "grade": false,
     "grade_id": "cell-8da6533b323210b6",
     "locked": true,
     "schema_version": 3,
     "solution": false,
     "task": false
    }
   },
   "outputs": [],
   "source": [
    "data_non_zero = data.drop(data.loc[data[\"CountsOfReview\"] == 0].index, axis=0)"
   ]
  },
  {
   "cell_type": "markdown",
   "id": "204e5661",
   "metadata": {
    "deletable": false,
    "editable": false,
    "nbgrader": {
     "grade": false,
     "grade_id": "cell-d0f4464e0207ec05",
     "locked": true,
     "schema_version": 3,
     "solution": false,
     "task": false
    }
   },
   "source": [
    "How to deal with these outliers?\n",
    "\n",
    "In the Learning Notebook, you learned a few ways to deal with the outliers, in case they are negatively affecting your Machine Learning models. In this exercise, let's explore the **log transformation** and see if it helps us in this case.\n",
    "\n",
    "Do the following:\n",
    "\n",
    "- Obtain the mean and the median of the `CountsOfReview`; which one is greater?\n",
    "- Create a new column named `log_CountsOfReview` with the log of  `CountsOfReview`;\n",
    "- Obtain the mean and the median of the log of `CountsOfReview`; are they very different from each other?\n",
    "- Plot `log_CountsOfReview` using a histogram with 20 bins. Compare the results.\n",
    "- What do you think? Were the outliers dealt with?"
   ]
  },
  {
   "cell_type": "code",
   "execution_count": null,
   "id": "624c597b",
   "metadata": {
    "deletable": false,
    "nbgrader": {
     "grade": false,
     "grade_id": "cell-2b472fdac56e8a22",
     "locked": false,
     "schema_version": 3,
     "solution": true,
     "task": false
    }
   },
   "outputs": [],
   "source": [
    "# counts_of_review_mean = ...\n",
    "# counts_of_review_median = ...\n",
    "# data_non_zero[\"log_CountsOfReview\"] = ...\n",
    "# log_counts_of_review_mean = ...\n",
    "# log_counts_of_review_median = ...\n",
    "\n",
    "# plot a histogram with 20 bins\n",
    "\n",
    "# YOUR CODE HERE\n",
    "raise NotImplementedError()\n",
    "\n",
    "print('The CountsOfReview has mean %d and median %d' % (counts_of_review_mean, counts_of_review_median))\n",
    "print('The log of the CountsOfReview has mean %0.1f and median %0.1f' % (log_counts_of_review_mean, log_counts_of_review_median))"
   ]
  },
  {
   "cell_type": "markdown",
   "id": "c21773ce",
   "metadata": {
    "deletable": false,
    "editable": false,
    "nbgrader": {
     "grade": false,
     "grade_id": "cell-706bcebafe638c07",
     "locked": true,
     "schema_version": 3,
     "solution": false,
     "task": false
    }
   },
   "source": [
    "#### Asserts"
   ]
  },
  {
   "cell_type": "code",
   "execution_count": null,
   "id": "d02223a3",
   "metadata": {
    "deletable": false,
    "editable": false,
    "nbgrader": {
     "grade": true,
     "grade_id": "cell-a74bd72b6c871c6d",
     "locked": true,
     "points": 3,
     "schema_version": 3,
     "solution": false,
     "task": false
    }
   },
   "outputs": [],
   "source": [
    "assert math.isclose(counts_of_review_mean, 188.1, abs_tol=0.1)\n",
    "assert math.isclose(counts_of_review_median, 12, abs_tol=0.1)\n",
    "assert math.isclose(log_counts_of_review_mean, 2.72, abs_tol=0.01)\n",
    "assert math.isclose(log_counts_of_review_median, 2.48, abs_tol=0.01)\n",
    "assert math.isclose(data_non_zero['log_CountsOfReview'].sum(), 114053.23, abs_tol=0.1)\n",
    "\n",
    "print(\"---- You did it!! All asserts passed! ---- \")"
   ]
  },
  {
   "cell_type": "markdown",
   "id": "cbac797a",
   "metadata": {
    "deletable": false,
    "editable": false,
    "nbgrader": {
     "grade": false,
     "grade_id": "cell-64505d93fe4769a6",
     "locked": true,
     "schema_version": 3,
     "solution": false,
     "task": false
    }
   },
   "source": [
    "----"
   ]
  },
  {
   "cell_type": "markdown",
   "id": "b72ade33",
   "metadata": {
    "deletable": false,
    "editable": false,
    "nbgrader": {
     "grade": false,
     "grade_id": "cell-ab0e4d148dab7cfd",
     "locked": true,
     "schema_version": 3,
     "solution": false,
     "task": false
    }
   },
   "source": [
    "Congratulations! You have finished. Good luck with the upcoming SLUs!\n",
    "\n",
    "\n",
    "![](media/complete.gif)"
   ]
  },
  {
   "cell_type": "markdown",
   "id": "06df43ff",
   "metadata": {},
   "source": [
    "# Submit your work!\n",
    "\n",
    "<!Insert link for batch7 submit instructions:>\n",
    "<!To submit your work, [follow the steps here, in the step \"Grading the Exercise Notebook\"!](url)>"
   ]
  }
 ],
 "metadata": {
  "kernelspec": {
   "display_name": "Python 3 (ipykernel)",
   "language": "python",
   "name": "python3"
  },
  "language_info": {
   "codemirror_mode": {
    "name": "ipython",
    "version": 3
   },
   "file_extension": ".py",
   "mimetype": "text/x-python",
   "name": "python",
   "nbconvert_exporter": "python",
   "pygments_lexer": "ipython3",
   "version": "3.12.3"
  },
  "varInspector": {
   "cols": {
    "lenName": 16,
    "lenType": 16,
    "lenVar": 40
   },
   "kernels_config": {
    "python": {
     "delete_cmd_postfix": "",
     "delete_cmd_prefix": "del ",
     "library": "var_list.py",
     "varRefreshCmd": "print(var_dic_list())"
    },
    "r": {
     "delete_cmd_postfix": ") ",
     "delete_cmd_prefix": "rm(",
     "library": "var_list.r",
     "varRefreshCmd": "cat(var_dic_list()) "
    }
   },
   "types_to_exclude": [
    "module",
    "function",
    "builtin_function_or_method",
    "instance",
    "_Feature"
   ],
   "window_display": false
  }
 },
 "nbformat": 4,
 "nbformat_minor": 5
}
