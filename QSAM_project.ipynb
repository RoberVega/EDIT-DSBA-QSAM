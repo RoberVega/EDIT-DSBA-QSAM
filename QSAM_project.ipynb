{
 "cells": [
  {
   "cell_type": "markdown",
   "metadata": {},
   "source": [
    "# QSAM project\n",
    "\n",
    "In this project we will explore a dataset with the following columns:\n",
    "- **RowNumber**—corresponds to the record number.\n",
    "- **CustomerId**—contains the identification number of the client.\n",
    "- **Surname**—the surname of the customer.\n",
    "- **CreditScore**—can have an effect on customer churn, since a customer with a higher credit score is less likely to \n",
    "leave the bank.\n",
    "- **Geography**—the customer’s location.\n",
    "- **Gender**—the customer's gender.\n",
    "- **Age**—this is certainly relevant, since older customers are less likely to leave their bank than younger ones.\n",
    "- **Tenure**—refers to the number of years that the customer has been a client of the bank. Normally, older clients are more loyal and less likely to leave a bank.\n",
    "- **Balance**—also a very good indicator of customer churn, as people with a higher balance in their accounts are less likely to leave the bank compared to those with lower balances.\n",
    "- **NumOfProducts**—refers to the number of products that a customer has purchased through the bank.\n",
    "- **HasCrCard**—denotes whether or not a customer has a credit card. This column is also relevant, since people with a credit card are less likely to leave the bank.\n",
    "- **IsActiveMember**—active customers are less likely to leave the bank.\n",
    "- **EstimatedSalary**—as with balance, people with lower salaries are more likely to leave the bank compared to those with higher salaries.\n",
    "- **Exited**—whether or not the customer left the bank.\n",
    "- **Complain**—customer has complaint or not.\n",
    "- **Satisfaction Score**—Score provided by the customer for their complaint resolution.\n",
    "- **Card Type**—type of card hold by the customer.\n",
    "- **Points Earned**—the points earned by the customer for using credit card.\n"
   ]
  },
  {
   "cell_type": "code",
   "execution_count": null,
   "metadata": {},
   "outputs": [],
   "source": [
    "import pandas as pd"
   ]
  },
  {
   "cell_type": "code",
   "execution_count": null,
   "metadata": {},
   "outputs": [],
   "source": [
    "data = pd.read_csv(\"data/Customer-Churn-Records\")"
   ]
  },
  {
   "cell_type": "markdown",
   "metadata": {},
   "source": [
    "## Context\n",
    "\n",
    "You are a Data Scientists that needs to reply to certain questions, some of them comming directly from the business intelligence team and some others related to your main mission, understand the data to create a Machine Learning algorithm in order to predict if a customer will leave the bank or not."
   ]
  },
  {
   "cell_type": "code",
   "execution_count": null,
   "metadata": {},
   "outputs": [],
   "source": [
    "# your code here"
   ]
  }
 ],
 "metadata": {
  "language_info": {
   "name": "python"
  }
 },
 "nbformat": 4,
 "nbformat_minor": 2
}
