{
 "cells": [
  {
   "cell_type": "code",
   "execution_count": 1,
   "metadata": {},
   "outputs": [],
   "source": [
    "# imports"
   ]
  },
  {
   "cell_type": "markdown",
   "metadata": {},
   "source": [
    "### 1. The experiment shows that the average monthly electricity consumption for a house is 458 units. The study records a total of 3206 units of electricity consumption. Calculate the duration of the experiment. Also, identify the criteria to calculate the median consumption. "
   ]
  },
  {
   "cell_type": "code",
   "execution_count": 1,
   "metadata": {},
   "outputs": [],
   "source": [
    "# your code here"
   ]
  },
  {
   "cell_type": "markdown",
   "metadata": {},
   "source": [
    "### 2. Find the wage above which 65% of wages would lie."
   ]
  },
  {
   "cell_type": "markdown",
   "metadata": {},
   "source": [
    "            Consider the wages (in dollars) of 15 workers as given below:\n",
    "\n",
    "            wage = [247, 228, 352, 298, 345, 312, 300, 285, 246, 352, 297, 304, 265, 325, 276]"
   ]
  },
  {
   "cell_type": "code",
   "execution_count": 2,
   "metadata": {},
   "outputs": [],
   "source": [
    "# your code here"
   ]
  },
  {
   "cell_type": "markdown",
   "metadata": {},
   "source": [
    "### 3. Jimmy requires 38 minutes on average, with a standard deviation of 5 minutes to distribute the newspapers. On the other hand, Richard requires 27 minutes on average, with a standard deviation of 6 minutes to distribute the newspapers. Identify most consistent distributor."
   ]
  },
  {
   "cell_type": "code",
   "execution_count": 3,
   "metadata": {
    "scrolled": true
   },
   "outputs": [],
   "source": [
    "# your code here"
   ]
  },
  {
   "cell_type": "markdown",
   "metadata": {},
   "source": [
    "### 4. Identify the extreme weights from the given list of weights using the interquartile range. "
   ]
  },
  {
   "cell_type": "markdown",
   "metadata": {},
   "source": [
    "            Consider the weights (in kg) of 10 students as given below:\n",
    "\n",
    "            weight = [14.7, 15.2, 39.8, 44.5, 21.2, 28.5, 35.2, 19.7, 40.4, 16.5]"
   ]
  },
  {
   "cell_type": "markdown",
   "metadata": {},
   "source": [
    "We consider an observation to be an outlier if it is outside the interval (Q1 - 1.5(IQR), Q3 + 1.5(IQR))."
   ]
  },
  {
   "cell_type": "code",
   "execution_count": 4,
   "metadata": {},
   "outputs": [],
   "source": [
    "# your code here"
   ]
  },
  {
   "cell_type": "markdown",
   "metadata": {},
   "source": [
    "### 5. A car showroom in Ohio exhibits a total of 12 cars of different brands. Identify the type of skewness in the showroom prices of cars. "
   ]
  },
  {
   "cell_type": "markdown",
   "metadata": {},
   "source": [
    "            Consider the prices (in dollars) for 12 cars as given below:\n",
    "\n",
    "            price = [14751, 16422, 15398, 9445, 12589, 11687, 10692, 8475, 11184, 9961, 12898, 11905]"
   ]
  },
  {
   "cell_type": "code",
   "execution_count": 5,
   "metadata": {},
   "outputs": [],
   "source": [
    "# your code here"
   ]
  },
  {
   "cell_type": "markdown",
   "metadata": {},
   "source": [
    "As the coefficient of skewness is positive; the distribution of prices is positively skewed."
   ]
  },
  {
   "cell_type": "markdown",
   "metadata": {},
   "source": [
    "### 6. A company offers its customers to take a vehicle and an eduacational loan. A study shows that the probability that a customer takes a vehicle loan is 0.35, the probability that a customer takes an educational loan is 0.46 and the probability that a customer takes at least one of the loan is 0.59. Find the probability that a customer takes both vehicle and educational loans."
   ]
  },
  {
   "cell_type": "code",
   "execution_count": 6,
   "metadata": {},
   "outputs": [],
   "source": [
    "# your code here"
   ]
  },
  {
   "cell_type": "markdown",
   "metadata": {},
   "source": [
    "### 7. Consider two independent events X and Y. If the probability of occurrence of event X is 0.4 and the probability of occurrence of at least one event is 0.6. Find the probability of occurrence of event Y. "
   ]
  },
  {
   "cell_type": "code",
   "execution_count": 8,
   "metadata": {},
   "outputs": [
    {
     "name": "stdout",
     "output_type": "stream",
     "text": [
      "Thr probability of occurrence of event Y: 0.33333333333333326\n"
     ]
    }
   ],
   "source": [
    "# probability of occurrence of event X\n",
    "prob_X = 0.4\n",
    "\n",
    "# probability of occurrence of at least one event\n",
    "prob_X_or_Y = 0.6\n",
    "\n",
    "# Since, X and Y are independent events P(X ⋂ Y) = P(X).P(Y)\n",
    "# i.e. P(X ⋃ Y) = P(X) + P(Y) - P(X).P(Y)\n",
    "# P(Y) = (P(X ⋃ Y) - P(X)) / (1 - P(X))\n",
    "prob_Y = (prob_X_or_Y - prob_X) / (1 - prob_X)\n",
    "\n",
    "print('Thr probability of occurrence of event Y:', prob_Y)"
   ]
  },
  {
   "cell_type": "markdown",
   "metadata": {},
   "source": [
    "### 7. Consider a vending machine containing 6 boxes each of four different juice flavors (Mango, Apple, Guava and Kiwi). Find the probability that the juice box picked is either of Mango or Guava flavor."
   ]
  },
  {
   "cell_type": "code",
   "execution_count": 7,
   "metadata": {},
   "outputs": [],
   "source": [
    "# your code here"
   ]
  },
  {
   "cell_type": "markdown",
   "metadata": {},
   "source": [
    "### 9. Consider a student appearing for 3 different exams either pass or fail in each exam. Let a marginal probability of a student passing the Economics, Mathematics and German exam be 0.67. The probability that the student fails in the Economics exam is 0.10 and the probability that the student fails in the German exam is 0.09. Find the probability that a student fails in the Mathematics exam."
   ]
  },
  {
   "cell_type": "markdown",
   "metadata": {},
   "source": [
    "Consider a discrete variable `X` denoting the passing or failing of an exam and a discrete variable `Y` denoting the three subjects of the exam. The sum of marginal probabilities of X (or Y) should be always equal to 1."
   ]
  },
  {
   "cell_type": "code",
   "execution_count": 8,
   "metadata": {},
   "outputs": [],
   "source": [
    "# your code here"
   ]
  },
  {
   "cell_type": "markdown",
   "metadata": {},
   "source": [
    "### 10. The probabilities that a machine will produce 2, 5, 7, 9 defective batteries in a day are 0.3, 0.22, 0.15, 0.1 respectively. Find the expected number of defective batteries produced in a day."
   ]
  },
  {
   "cell_type": "code",
   "execution_count": 9,
   "metadata": {},
   "outputs": [],
   "source": [
    "# your code here"
   ]
  },
  {
   "cell_type": "markdown",
   "metadata": {},
   "source": [
    "### 11. In a pack of 52 cards, what is the probability of selecting a red card?"
   ]
  },
  {
   "cell_type": "code",
   "execution_count": 11,
   "metadata": {},
   "outputs": [],
   "source": [
    "# your code here"
   ]
  },
  {
   "cell_type": "markdown",
   "metadata": {},
   "source": [
    "### 12. From the experience, it is seen that 4% of the tyres produced by the machine are defective. Out of the 10 tyres produced, find the probability that at most 3 are defective."
   ]
  },
  {
   "cell_type": "code",
   "execution_count": 12,
   "metadata": {},
   "outputs": [],
   "source": [
    "# your code here"
   ]
  },
  {
   "cell_type": "markdown",
   "metadata": {},
   "source": [
    "### 13. The number of trucks crossing a bridge during the day follow a Poisson distribution with mean 18. What is the probability that on a randomly selected day 12 trucks would have crossed the bridge?"
   ]
  },
  {
   "cell_type": "code",
   "execution_count": 13,
   "metadata": {},
   "outputs": [],
   "source": [
    "# your code here"
   ]
  },
  {
   "cell_type": "markdown",
   "metadata": {},
   "source": [
    "### 14. A random variable follows uniform distribution in the interval 5 to 10. Obtain the mean and variance."
   ]
  },
  {
   "cell_type": "code",
   "execution_count": 16,
   "metadata": {},
   "outputs": [],
   "source": [
    "# your code here"
   ]
  },
  {
   "cell_type": "markdown",
   "metadata": {},
   "source": [
    "### 15. Consider an random variable that follows normal distribution with mean 5 and variance 10. Obtain:\n",
    "1. P(X < 1)\n",
    "2. P(X > 5)\n",
    "3. P(3 < X < 7)"
   ]
  },
  {
   "cell_type": "code",
   "execution_count": 14,
   "metadata": {},
   "outputs": [],
   "source": [
    "# your code here"
   ]
  },
  {
   "cell_type": "markdown",
   "metadata": {},
   "source": [
    "### 16. Consider the data given below. Can we claim that the average number of fruits on a tree is 70? "
   ]
  },
  {
   "cell_type": "markdown",
   "metadata": {},
   "source": [
    "            Consider number of fruits on a tree:\n",
    "\n",
    "            number_fruits = [64, 56, 48, 56, 79, 67, 65, 86, 87, 53, 67, 89, 65, 42, 46]"
   ]
  },
  {
   "cell_type": "code",
   "execution_count": 15,
   "metadata": {},
   "outputs": [],
   "source": [
    "# your code here"
   ]
  },
  {
   "cell_type": "markdown",
   "metadata": {},
   "source": [
    "### 17. The courier company has two offices in NYC. They are interested to know which office is busier. The number of parcels received for 15 days is given below. Can we claim that both offices are equally busy?"
   ]
  },
  {
   "cell_type": "markdown",
   "metadata": {},
   "source": [
    "            Consider the number of parcels in office A:\n",
    "            office_A = [26, 56, 48, 56, 79, 67, 35, 46, 87, 53, 67, 89, 65, 42, 34]\n",
    "\n",
    "            Consider the number of parcels in office B:\n",
    "            office_B = [34, 45, 87, 57, 45, 42, 34, 45, 34, 67, 89, 43, 87, 95, 95]"
   ]
  },
  {
   "cell_type": "code",
   "execution_count": 16,
   "metadata": {},
   "outputs": [],
   "source": [
    "# your code here"
   ]
  },
  {
   "cell_type": "markdown",
   "metadata": {},
   "source": [
    "### 18. To improve the attitude of officers, they had to complete a training program. Can we claim that the training program was effective? "
   ]
  },
  {
   "cell_type": "markdown",
   "metadata": {},
   "source": [
    "The data of 10 officers scores is given below:\n",
    "\n",
    "<table>\n",
    "    <tr>\n",
    "        <th> Officer </th>\n",
    "        <th> Attitude Before </th>\n",
    "        <th> Attitude After </th>\n",
    "    </tr>\n",
    "     <tr>\n",
    "        <td> 1 </td>\n",
    "        <td> 3 </td>\n",
    "        <td> 4 </td>\n",
    "    </tr>\n",
    "    <tr>\n",
    "        <td> 2 </td>\n",
    "        <td> 5 </td>\n",
    "        <td> 5 </td>\n",
    "    </tr>\n",
    "    <tr>\n",
    "        <td> 3 </td>\n",
    "        <td> 2 </td>\n",
    "        <td> 3 </td>\n",
    "    </tr>\n",
    "    <tr>\n",
    "        <td> 4 </td>\n",
    "        <td> 2 </td>\n",
    "        <td> 4 </td>\n",
    "    </tr>\n",
    "    <tr>\n",
    "        <td> 5 </td>\n",
    "        <td> 4 </td>\n",
    "        <td> 4 </td>\n",
    "    </tr>\n",
    "    <tr>\n",
    "        <td> 6 </td>\n",
    "        <td> 4 </td>\n",
    "        <td> 4 </td>\n",
    "    </tr>\n",
    "    <tr>\n",
    "        <td> 7 </td>\n",
    "        <td> 3 </td>\n",
    "        <td> 3 </td>\n",
    "    </tr>\n",
    "    <tr>\n",
    "        <td> 8 </td>\n",
    "        <td> 5 </td>\n",
    "        <td> 2 </td>\n",
    "    </tr>\n",
    "    <tr>\n",
    "        <td> 9 </td>\n",
    "        <td> 3 </td>\n",
    "        <td> 2 </td>\n",
    "    </tr>\n",
    "    <tr>\n",
    "        <td> 10 </td>\n",
    "        <td> 4 </td>\n",
    "        <td> 5 </td>\n",
    "    </tr>\n",
    "</table>"
   ]
  },
  {
   "cell_type": "code",
   "execution_count": 17,
   "metadata": {},
   "outputs": [],
   "source": [
    "# your code here"
   ]
  },
  {
   "cell_type": "markdown",
   "metadata": {},
   "source": [
    "### 19. During an economic crisis, a researcher thought that the salaries of IT professionals are affected. Test whether the average monthly salary has gone below 65000 dollars."
   ]
  },
  {
   "cell_type": "markdown",
   "metadata": {},
   "source": [
    "            Salaries of corporate professionals in thousand dollars:\n",
    "\n",
    "            salary = [56, 48, 56, 79, 67, 55, 46, 87, 53, 67, 89, 65, 62, 45, 87, 57, 45, \n",
    "                      42, 45, 67, 89, 43, 87, 95, 92, 56, 67, 89, 54, 62, 78, 43, 76, 65,\n",
    "                      56, 58, 98, 56, 78, 79, 45, 34, 35, 46, 47, 67, 37, 45, 51, 65, 65]"
   ]
  },
  {
   "cell_type": "code",
   "execution_count": 18,
   "metadata": {},
   "outputs": [],
   "source": [
    "# your code here"
   ]
  },
  {
   "cell_type": "markdown",
   "metadata": {},
   "source": [
    "### 20. Consider the data given below. Can we conclude that the data is normally distributed?"
   ]
  },
  {
   "cell_type": "markdown",
   "metadata": {},
   "source": [
    "            Consider number of fruits on a tree:\n",
    "            number_fruits = [64, 56, 48, 56, 79, 67, 65, 86, 87, 53, 67, 89, 65, 42, 46]"
   ]
  },
  {
   "cell_type": "code",
   "execution_count": 19,
   "metadata": {},
   "outputs": [],
   "source": [
    "# your code here"
   ]
  }
 ],
 "metadata": {
  "kernelspec": {
   "display_name": "Python 3 (ipykernel)",
   "language": "python",
   "name": "python3"
  },
  "language_info": {
   "codemirror_mode": {
    "name": "ipython",
    "version": 3
   },
   "file_extension": ".py",
   "mimetype": "text/x-python",
   "name": "python",
   "nbconvert_exporter": "python",
   "pygments_lexer": "ipython3",
   "version": "3.12.3"
  }
 },
 "nbformat": 4,
 "nbformat_minor": 4
}
